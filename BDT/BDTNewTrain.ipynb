{
 "cells": [
  {
   "cell_type": "code",
   "execution_count": null,
   "metadata": {},
   "outputs": [],
   "source": [
    "pip install eli5 --user"
   ]
  },
  {
   "cell_type": "code",
   "execution_count": null,
   "metadata": {},
   "outputs": [],
   "source": [
    "import lightgbm as lgb\n",
    "import numpy as np\n",
    "import scipy\n",
    "import random\n",
    "import os\n",
    "import shutil\n",
    "import gc\n",
    "import sys\n",
    "import uuid\n",
    "import functools\n",
    "import gc\n",
    "import json\n",
    "import pandas as pd\n",
    "import matplotlib\n",
    "import eli5\n",
    "import shap\n",
    "import matplotlib.pyplot as plt\n",
    "import PIL\n",
    "from sklearn.metrics import roc_auc_score, roc_curve\n",
    "\n",
    "\n",
    "fname = [\"isEnr\", \"channel\", \"tDrift\", \"avse\", \"dcr\",\"noise\",\"active mass\"]"
   ]
  },
  {
   "cell_type": "code",
   "execution_count": null,
   "metadata": {},
   "outputs": [],
   "source": [
    "bkgdata = np.loadtxt('DS6cal_5.csv', delimiter=',',dtype=np.single)\n",
    "bkgdata = bkgdata[bkgdata[:,5]<2.32]\n",
    "np.save(\"bkgdata.npy\",bkgdata)"
   ]
  },
  {
   "cell_type": "code",
   "execution_count": null,
   "metadata": {},
   "outputs": [],
   "source": [
    "bkgdata = np.load(\"bkgdata.npy\")\n",
    "covar_param = bkgdata[:10000,3:]\n",
    "plt.figure(figsize=(15,12))\n",
    "label_name = []\n",
    "error_matrix = np.corrcoef(np.transpose(covar_param))\n",
    "plt.imshow(error_matrix,cmap=\"PiYG\",vmin=-1,vmax=1)\n",
    "ticklabel_array = [\"final energy\", \"avse\", \"dcr\", \"tOffset\", \"nlcblrwfSlope\",\"d2wfnoiseTagNorm\"]\n",
    "plt.yticks(range(len(ticklabel_array)),ticklabel_array)  # Set text labels and properties.\n",
    "plt.xticks(range(len(ticklabel_array)), ticklabel_array,rotation=90)  # Set text labels and properties.\n",
    "plt.colorbar()\n",
    "plt.gcf().subplots_adjust(bottom=0.15)\n",
    "plt.savefig(\"covarm.png\")"
   ]
  },
  {
   "cell_type": "code",
   "execution_count": null,
   "metadata": {},
   "outputs": [],
   "source": [
    "#Extracting SEP and DEP\n",
    "bkgdata = np.load(\"bkgdata.npy\")\n",
    "SEP_energy=2103\n",
    "DEP_energy=1592\n",
    "Ewidth =1.0\n",
    "SEP_test =  bkgdata[(bkgdata[:,3]>(SEP_energy-Ewidth)) & (bkgdata[:,3]<(SEP_energy+Ewidth))]\n",
    "DEP_test =  bkgdata[(bkgdata[:,3]>DEP_energy-Ewidth) & (bkgdata[:,3]<DEP_energy+Ewidth)]\n",
    "sig_save = np.delete(DEP_test,3,axis=1)\n",
    "bkg_save = np.delete(SEP_test,3,axis=1)\n",
    "# sig_save = np.delete(sig_save,-1,axis=1)\n",
    "# bkg_save = np.delete(bkg_save,-1,axis=1)\n",
    "# sig_save = np.delete(sig_save,-1,axis=1)\n",
    "# bkg_save = np.delete(bkg_save,-1,axis=1)\n",
    "# sig_save = np.delete(sig_save,-1,axis=1)\n",
    "# bkg_save = np.delete(bkg_save,-1,axis=1)\n",
    "print(sig_save.shape,bkg_save.shape)\n",
    "np.save(\"sig_raw.npy\",sig_save)\n",
    "np.save(\"bkg_raw.npy\",bkg_save)"
   ]
  },
  {
   "cell_type": "code",
   "execution_count": null,
   "metadata": {},
   "outputs": [],
   "source": [
    "def match_data(signaldata, bkgdata,fname,varname, increment):\n",
    "    sigindex=[]\n",
    "    bkgindex=[]\n",
    "    index = int(fname.index(varname))\n",
    "    min_select_val = max(np.min(signaldata[:,index]), np.min(bkgdata[:,index]))\n",
    "    max_select_val = min(np.max(signaldata[:,index]), np.max(bkgdata[:,index]))\n",
    "    if varname == \"dcr\":\n",
    "        min_select_val = max(min_select_val, -10.0)\n",
    "    elif varname == \"noise\":\n",
    "        max_select_val = min(max_select_val, 10.0)\n",
    "    print(min_select_val, max_select_val)\n",
    "    for entry_select_val in np.arange(min_select_val, max_select_val+increment, increment):\n",
    "        sig_in_range = np.where(np.logical_and(signaldata[:,index]>=entry_select_val, signaldata[:,index]<entry_select_val+increment))[0]\n",
    "        bkg_in_range =np.where(np.logical_and(bkgdata[:,index]>=entry_select_val, bkgdata[:,index]<entry_select_val+increment))[0]\n",
    "        min_entry = min(len(sig_in_range), len(bkg_in_range))\n",
    "        if min_entry == 0:\n",
    "            continue\n",
    "        sigindex += list(np.random.choice(sig_in_range, min_entry,replace=False))\n",
    "        bkgindex += list(np.random.choice(bkg_in_range, min_entry,replace=False))\n",
    "    rg = np.arange(max(min_select_val,-10), max_select_val+increment,increment)\n",
    "    plt.hist(signaldata[sigindex,index],bins=rg,color=\"red\",linestyle=\":\",histtype=\"step\",label=\"DEP\")\n",
    "    plt.hist(bkgdata[bkgindex,index],bins=rg,linestyle=\"-\",label=\"SEP\")\n",
    "    plt.title(\"After Matching\")\n",
    "    plt.xlabel(\"Matched Value[a.u.]\")\n",
    "    plt.legend()\n",
    "    signaldata = signaldata[sigindex]\n",
    "    bkgdata = bkgdata[bkgindex]\n",
    "    print(signaldata.shape,bkgdata.shape)\n",
    "    plt.show()\n",
    "    plt.cla()\n",
    "    plt.clf()\n",
    "    plt.close()\n",
    "    return signaldata, bkgdata"
   ]
  },
  {
   "cell_type": "code",
   "execution_count": null,
   "metadata": {
    "scrolled": true
   },
   "outputs": [],
   "source": [
    "sigsave = np.load(\"sig_raw.npy\")\n",
    "bkgsave = np.load(\"bkg_raw.npy\")\n",
    "sigsave, bkgsave = match_data(sigsave,bkgsave,fname, \"dcr\",0.01)\n",
    "sigsave, bkgsave = match_data(sigsave,bkgsave,fname,\"tDrift\",0.1)\n",
    "sigsave, bkgsave = match_data(sigsave,bkgsave,fname,\"channel\",1)\n",
    "sigsave, bkgsave = match_data(sigsave,bkgsave,fname,\"noise\",0.01)\n",
    "print(sigsave.shape,bkgsave.shape)\n",
    "np.save(\"sig.npy\",sigsave)\n",
    "np.save(\"bkg.npy\",bkgsave)"
   ]
  },
  {
   "cell_type": "code",
   "execution_count": null,
   "metadata": {},
   "outputs": [],
   "source": [
    "signaldata = np.load(\"sig.npy\")\n",
    "bkgdata = np.load(\"bkg.npy\")\n",
    "\n",
    "\n",
    "#split signal dataset\n",
    "test_split = 0.4\n",
    "indices = np.arange(signaldata.shape[0])\n",
    "np.random.shuffle(indices)\n",
    "train_index = indices[int(len(indices)*test_split):]\n",
    "test_index = indices[:int(len(indices)*test_split)]\n",
    "signal_train = signaldata[train_index]\n",
    "signal_test = signaldata[test_index]\n",
    "siglabel_train = np.ones(signal_train.shape[0])\n",
    "siglabel_test = np.ones(signal_test.shape[0])"
   ]
  },
  {
   "cell_type": "code",
   "execution_count": null,
   "metadata": {},
   "outputs": [],
   "source": [
    "#split bkg dataset\n",
    "indices = np.arange(bkgdata.shape[0])\n",
    "np.random.shuffle(indices)\n",
    "train_index = indices[int(len(indices)*test_split):]\n",
    "test_index = indices[:int(len(indices)*test_split)]\n",
    "bkg_train = bkgdata[train_index]\n",
    "bkg_test = bkgdata[test_index]\n",
    "bkglabel_train = np.zeros(bkg_train.shape[0])\n",
    "bkglabel_test = np.zeros(bkg_test.shape[0])"
   ]
  },
  {
   "cell_type": "code",
   "execution_count": null,
   "metadata": {},
   "outputs": [],
   "source": [
    "#Randomize tran dataset\n",
    "X_train = np.concatenate([signal_train, bkg_train],axis = 0)\n",
    "Y_train = np.concatenate([siglabel_train, bkglabel_train],axis = 0)\n",
    "train_index = np.arange(len(X_train))\n",
    "np.random.shuffle(train_index)\n",
    "X_train = X_train[train_index]\n",
    "Y_train = Y_train[train_index]\n",
    "X_test = np.concatenate([signal_test, bkg_test],axis = 0)\n",
    "Y_test = np.concatenate([siglabel_test, bkglabel_test],axis = 0)"
   ]
  },
  {
   "cell_type": "code",
   "execution_count": null,
   "metadata": {},
   "outputs": [],
   "source": [
    "#sample the same amount of events in test dataset\n",
    "sig_test = np.where(Y_test==1)[0]\n",
    "bkg_test = np.where(Y_test==0)[0]\n",
    "min_test_entry = min(len(sig_test), len(bkg_test))\n",
    "index_test = list(np.random.choice(sig_test, min_test_entry, replace=False)) + list(np.random.choice(bkg_test, min_test_entry, replace=False))\n",
    "X_test = X_test[index_test]\n",
    "Y_test = Y_test[index_test]"
   ]
  },
  {
   "cell_type": "code",
   "execution_count": null,
   "metadata": {},
   "outputs": [],
   "source": [
    "#Randomize test dataset\n",
    "test_index = np.arange(len(X_test))\n",
    "np.random.shuffle(test_index)\n",
    "X_test = X_test[test_index]\n",
    "Y_test = Y_test[test_index]"
   ]
  },
  {
   "cell_type": "code",
   "execution_count": null,
   "metadata": {},
   "outputs": [],
   "source": [
    "#Split test into validation & test dataset\n",
    "if len(X_test)%2 == 1:\n",
    "    X_test = X_test[:-1]\n",
    "    Y_test = Y_test[:-1]\n",
    "X_val, X_test = np.split(X_test,2)\n",
    "Y_val, Y_test = np.split(Y_test,2)\n",
    "\n",
    "valid_x = np.isfinite(X_test[:,4])\n",
    "X_test = X_test[valid_x]\n",
    "Y_test = Y_test[valid_x]"
   ]
  },
  {
   "cell_type": "code",
   "execution_count": null,
   "metadata": {},
   "outputs": [],
   "source": [
    "lgb_train = lgb.Dataset(X_train, Y_train,free_raw_data=False, feature_name = fname\n",
    ")\n",
    "lgb_eval = lgb.Dataset(X_val, Y_val, reference=lgb_train,free_raw_data=False, feature_name = fname\n",
    ")\n",
    "#972\n",
    "params={\"num_iterations\": 722, \"learning_rate\": 0.024617418240526604, \"num_leaves\": 69, \"bagging_freq\": 36, \"pos_bagging_fraction\": 0.5226149147832042, \"min_data_in_leaf\": 46, \"drop_rate\": 0.3893833272261452, \"min_gain_to_split\": 0.2928531948747939, \"max_bin\": 603, \"boosting\": \"goss\", \"objective\": \"binary\", \"metric\": \"binary_logloss\", \"verbose\": 0, \"neg_bagging_fraction\": 1.0}\n",
    "params[\"neg_bagging_fraction\"] *= params[\"pos_bagging_fraction\"]\n",
    "evals_result = {}"
   ]
  },
  {
   "cell_type": "code",
   "execution_count": null,
   "metadata": {},
   "outputs": [],
   "source": [
    "gbm = lgb.train(params,lgb_train,valid_sets=lgb_eval,early_stopping_rounds=3,evals_result=evals_result, categorical_feature=[\"isEnr\",\"channel\"])"
   ]
  },
  {
   "cell_type": "code",
   "execution_count": null,
   "metadata": {
    "scrolled": true
   },
   "outputs": [],
   "source": [
    "shap.initjs()"
   ]
  },
  {
   "cell_type": "code",
   "execution_count": null,
   "metadata": {},
   "outputs": [],
   "source": [
    "#full_output\n",
    "y_pred = gbm.predict(X_test, num_iteration=gbm.best_iteration)\n",
    "rg=np.arange(0.0,1.0,0.01)\n",
    "plt.hist(y_pred[Y_test==1], label=\"Signal\", bins=rg, histtype=\"step\", density=True)\n",
    "plt.hist(y_pred[Y_test==0], label=\"Background\",bins=rg, histtype=\"step\", density=True)\n",
    "# plt.axvline(x=0.05,linestyle=\"--\",color=\"black\")\n",
    "# plt.axvline(x=0.5,linestyle=\"--\",color=\"black\")\n",
    "# plt.axvline(x=0.9,linestyle=\"--\",color=\"black\")\n",
    "plt.legend()\n",
    "plt.xlabel(\"BDT output\")\n",
    "plt.ylabel(\"% per 0.01 bin(a.u.)\")\n",
    "plt.show()\n",
    "plt.cla()\n",
    "plt.clf()\n",
    "plt.close()"
   ]
  },
  {
   "cell_type": "code",
   "execution_count": null,
   "metadata": {},
   "outputs": [],
   "source": [
    "#Plot one event force plot\n",
    "# fname = [\"isEnr\", \"channel\", \"tDrift\", \"avse\", \"dcr\"]\n",
    "explainer = shap.TreeExplainer(gbm)\n",
    "shap_values = explainer.shap_values(X_test)\n",
    "shap.force_plot(explainer.expected_value[1], shap_values[1][240,:], fname)\n",
    "# #print(Y_test[0])"
   ]
  },
  {
   "cell_type": "code",
   "execution_count": null,
   "metadata": {},
   "outputs": [],
   "source": [
    "#Plot all events with BDT output between 0.9 and 1.0 (Dataset A)\n",
    "Pos_sample = X_test[Y_test == 1]\n",
    "Neg_sample = X_test[Y_test == 0]\n",
    "sample = np.concatenate([Pos_sample[:500], Neg_sample[:500]],axis=0)\n",
    "shap_values = explainer.shap_values(sample)\n",
    "shap.force_plot(explainer.expected_value[1], shap_values[1][500:,:], fname)"
   ]
  },
  {
   "cell_type": "code",
   "execution_count": null,
   "metadata": {},
   "outputs": [],
   "source": [
    "#Plot all events with BDT output between 0.9 and 1.0 (Dataset A)\n",
    "#[\"isEnr\", \"gain\", \"tDrift\", \"avse\", \"dcr\", \"channel\"]\n",
    "Pos_sample = X_test[Y_test == 1]\n",
    "Neg_sample = X_test[Y_test == 0]\n",
    "sample = np.concatenate([Pos_sample[:500], Neg_sample[:500]],axis=0)\n",
    "shap_values = explainer.shap_values(sample)\n",
    "print(shap_values)\n",
    "shap.summary_plot(shap_values[1], sample,plot_type=\"dot\", feature_names=fname)\n",
    "shap.dependence_plot(fname.index(\"avse\"), shap_values[1], sample, feature_names=fname)"
   ]
  },
  {
   "cell_type": "code",
   "execution_count": null,
   "metadata": {},
   "outputs": [],
   "source": [
    "def get_roc_param(ytest, ypred):\n",
    "    ytest = ytest[np.isfinite(ypred)]\n",
    "    ypred = ypred[np.isfinite(ypred)]\n",
    "    auc = roc_auc_score(ytest, ypred)\n",
    "    if auc<0.5:\n",
    "        ypred = -ypred\n",
    "    fpr, tpr, thr = roc_curve(ytest, ypred)\n",
    "    return fpr, tpr, thr, roc_auc_score(ytest, ypred)\n",
    "\n",
    "def plot_auc(Y_test, y_pred, X_test, elow):\n",
    "    # Yt_modified = Y_test.flatten()\n",
    "    # X_avse = X_test[:,4].flatten()\n",
    "    # X_dcr = X_test[:,5].flatten()\n",
    "    # X_avse = X_avse[X_dcr<=2.32]\n",
    "    # Yt_modified = Yt_modified[X_dcr<=2.32]\n",
    "    # ypred_modified = y_pred[X_dcr<=2.32]\n",
    "\n",
    "    auc = roc_auc_score(Y_test, y_pred)\n",
    "    fpr, tpr, thr = roc_curve(Y_test, y_pred)\n",
    "    fpra, tpra, thra, auca= get_roc_param(Y_test, X_test[:,3])\n",
    "    \n",
    "    avsecut = np.argmin(np.abs(thra+1.0))\n",
    "    bdtcut = np.argmin(np.abs(tpr-tpra[avsecut]))\n",
    "    \n",
    "    plt.plot(fpr, tpr, label = 'BDT Classifier (AUC = %.3f, DEP = %.3f, SEP = %.3f)'%(auc, tpr[bdtcut], 1-fpr[bdtcut]))\n",
    "    plt.plot(fpra, tpra, label = 'A vs. E Classifier (AUC = %.3f, DEP = %.3f, SEP = %.3f)'%(auca, tpra[avsecut], 1-fpra[avsecut]))\n",
    "\n",
    "    fprt, tprt, thrt, auct = get_roc_param(Y_test, X_test[:,fname.index(\"tDrift\")].flatten())\n",
    "    plt.plot(fprt, tprt, label = 'tDrift Classifier (AUC = %.3f)'%(auct))\n",
    "\n",
    "    fprd, tprd, thrd, aucd = get_roc_param(Y_test, X_test[:,fname.index(\"dcr\")].flatten())\n",
    "    plt.plot(fprd, tprd, label = 'DCR Classifier (AUC = %.3f)'%(aucd))\n",
    "\n",
    "    plt.xlabel('False Positive Rate')\n",
    "    plt.ylabel('True Positive Rate')\n",
    "    plt.legend()\n",
    "    print('False positive rate:',fpr[1], '\\nTrue positive rate:',tpr[1])\n",
    "    print(\"Elow: \", elow,\"BDT cut: \", 1-fpr[np.argmin(np.abs(tpr-0.9))],\"A vs. E cut: \", 1-fpra[np.argmin(np.abs(tpra-0.9))])\n",
    "    print(\"Elow: \", elow,\"BDT cut: \", tpr[np.argmin(np.abs(fpr-0.1))],\"A vs. E cut: \", tpra[np.argmin(np.abs(fpra-0.1))])\n",
    "\n",
    "    plt.show()\n",
    "    plt.cla()\n",
    "    plt.clf()\n",
    "    plt.close()\n",
    "    return thr[bdtcut], thra[avsecut]"
   ]
  },
  {
   "cell_type": "code",
   "execution_count": null,
   "metadata": {},
   "outputs": [],
   "source": [
    "y_pred = gbm.predict(X_test, num_iteration=gbm.best_iteration)\n",
    "bdt_thresh, avse_thresh = plot_auc(Y_test, y_pred, X_test, 0)\n",
    "sample_selector = (y_pred<bdt_thresh) & (X_test[:,3]>avse_thresh) & (Y_test == 0)\n",
    "print(bdt_thresh, avse_thresh)\n",
    "shap_values = explainer.shap_values(X_test[sample_selector])\n",
    "print(len(X_test[sample_selector]) / len(X_test))\n",
    "#shap.force_plot(explainer.expected_value[1], shap_values[1][:1000,:], fname)\n",
    "shap.dependence_plot(fname.index(\"avse\"), shap_values[1], X_test[sample_selector], feature_names=fname)\n",
    "shap.dependence_plot(fname.index(\"tDrift\"), shap_values[1], X_test[sample_selector], feature_names=fname)"
   ]
  },
  {
   "cell_type": "code",
   "execution_count": null,
   "metadata": {},
   "outputs": [],
   "source": [
    "#BDT output on enriched detector\n",
    "enriched_selector = X_test[:,0] == 1\n",
    "Xt = X_test[enriched_selector]\n",
    "yp = gbm.predict(Xt, num_iteration=gbm.best_iteration)\n",
    "yt = Y_test[enriched_selector]\n",
    "rg=np.arange(0.0,1.0,0.01)\n",
    "plt.hist(yp[yt==1], label=\"Signal\", bins=rg, histtype=\"step\", density=True)\n",
    "plt.hist(yp[yt==0], label=\"Background\",bins=rg, histtype=\"step\", density=True)\n",
    "# plt.axvline(x=0.05,linestyle=\"--\",color=\"black\")\n",
    "# plt.axvline(x=0.5,linestyle=\"--\",color=\"black\")\n",
    "# plt.axvline(x=0.9,linestyle=\"--\",color=\"black\")\n",
    "plt.legend()\n",
    "plt.xlabel(\"BDT output on Enriched Detector\")\n",
    "plt.ylabel(\"% per 0.01 bin(a.u.)\")\n",
    "plt.show()\n",
    "plt.cla()\n",
    "plt.clf()\n",
    "plt.close()"
   ]
  },
  {
   "cell_type": "code",
   "execution_count": null,
   "metadata": {},
   "outputs": [],
   "source": [
    "plot_auc(yt, yp, Xt, 0)"
   ]
  },
  {
   "cell_type": "code",
   "execution_count": null,
   "metadata": {},
   "outputs": [],
   "source": [
    "shap_values = explainer.shap_values(X_test[Y_test==1])\n",
    "shap.plots.heatmap(shap_values, , instance_order=shap_values.sum(1))"
   ]
  },
  {
   "cell_type": "code",
   "execution_count": null,
   "metadata": {},
   "outputs": [],
   "source": []
  }
 ],
 "metadata": {
  "kernelspec": {
   "display_name": "bdt",
   "language": "python",
   "name": "bdt"
  },
  "language_info": {
   "codemirror_mode": {
    "name": "ipython",
    "version": 3
   },
   "file_extension": ".py",
   "mimetype": "text/x-python",
   "name": "python",
   "nbconvert_exporter": "python",
   "pygments_lexer": "ipython3",
   "version": "3.8.5"
  }
 },
 "nbformat": 4,
 "nbformat_minor": 4
}
