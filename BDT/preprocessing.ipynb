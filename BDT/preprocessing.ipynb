{
 "cells": [
  {
   "cell_type": "code",
   "execution_count": 2,
   "metadata": {
    "scrolled": true
   },
   "outputs": [
    {
     "name": "stdout",
     "output_type": "stream",
     "text": [
      "Requirement already satisfied: tqdm in /global/common/cori_cle7/software/jupyter/cori/20-09/lib/python3.8/site-packages (4.49.0)\n"
     ]
    }
   ],
   "source": [
    "!pip install tqdm --user"
   ]
  },
  {
   "cell_type": "code",
   "execution_count": 1,
   "metadata": {},
   "outputs": [
    {
     "name": "stdout",
     "output_type": "stream",
     "text": [
      "Welcome to JupyROOT 6.18/00\n"
     ]
    }
   ],
   "source": [
    "from tqdm import tqdm\n",
    "import argparse\n",
    "import math\n",
    "import os\n",
    "import json\n",
    "import pickle\n",
    "from scipy import sparse\n",
    "from scipy import constants as const\n",
    "from sklearn.preprocessing import StandardScaler, Normalizer, MinMaxScaler\n",
    "from random import *\n",
    "import numpy as np\n",
    "import time\n",
    "from ROOT import TFile\n",
    "from datetime import datetime"
   ]
  },
  {
   "cell_type": "code",
   "execution_count": 2,
   "metadata": {},
   "outputs": [],
   "source": [
    "signal=False\n",
    "filename = \"\"\n",
    "if signal:\n",
    "    FILEPATH = \"/global/cfs/cdirs/majorana/data/mjd/surfmjd/analysis/skim/DS6/GAT-v02-03-54-g4ecb54c\"\n",
    "    label = 1\n",
    "    filename=\"DS6_6.csv\"\n",
    "else:\n",
    "    FILEPATH = \"/global/cfs/cdirs/majorana/data/mjd/surfmjd/analysis/skim/DS6cal/GAT-v02-03-54-g4ecb54c\"\n",
    "    label = 0\n",
    "    filename=\"DS6cal_6.csv\""
   ]
  },
  {
   "cell_type": "code",
   "execution_count": null,
   "metadata": {
    "scrolled": true
   },
   "outputs": [
    {
     "name": "stderr",
     "output_type": "stream",
     "text": [
      " 11%|█         | 493/4414 [1:16:32<7:31:01,  6.90s/it] "
     ]
    }
   ],
   "source": [
    "#Only using high gain channel\n",
    "count=0\n",
    "with open(filename, \"w\") as f:\n",
    "    for file in tqdm(os.listdir(FILEPATH)):\n",
    "        f1 = TFile(os.path.join(FILEPATH, file))\n",
    "        tree = f1.Get(\"skimTree\")\n",
    "        filestring = \"\"\n",
    "        for evt_index in range(tree.GetEntries()):\n",
    "            tree.GetEntry(evt_index)\n",
    "            if (tree.Final_Energy[0] < 1500.0) and (tree.Final_Energy[0] != 0.0):\n",
    "                continue\n",
    "            if signal:\n",
    "                passflag = np.all(np.array(tree.isGood)) and tree.isLNFill1==0 and tree.isLNFill2==0 and np.array(tree.wfDCBits).all()==0 and tree.mHL==1 and tree.muVeto==0\n",
    "            else:\n",
    "                passflag = np.all(np.array(tree.isGood)) and tree.isLNFill1==0 and tree.isLNFill2==0 and np.array(tree.wfDCBits).all()==0  and tree.muVeto==0  and (tree.mH==1 and tree.mL==1)\n",
    "            if passflag:\n",
    "                chindex = 0\n",
    "                if not signal:\n",
    "#                     if np.random.rand()>0.1:\n",
    "#                         continue\n",
    "                    if tree.sumEHClean == 0.0:\n",
    "                        chindex = 1\n",
    "                count+=1\n",
    "                f.writelines(\"%d,%d,%f,%f,%f,%f,%f,%d,%f\\n\"%(int(np.array(tree.isEnr,dtype=np.bool)[chindex]),\\\n",
    "                                                                tree.channel[chindex],\\\n",
    "                                                                tree.tDrift[chindex],\\\n",
    "                                                                tree.Final_Energy[chindex],\\\n",
    "                                                                tree.avse[chindex],\\\n",
    "                                                                tree.dcr[chindex],\\\n",
    "                                                                tree.d2wfnoiseTagNorm[chindex],\\\n",
    "                                                                tree.mAct_g[chindex],\\\n",
    "                                                                tree.avse_corr[chindex]\n",
    "                                                                ))\n",
    "print(count)"
   ]
  },
  {
   "cell_type": "code",
   "execution_count": null,
   "metadata": {
    "scrolled": true
   },
   "outputs": [],
   "source": []
  }
 ],
 "metadata": {
  "kernelspec": {
   "display_name": "PyROOT",
   "language": "python",
   "name": "pyroot"
  },
  "language_info": {
   "codemirror_mode": {
    "name": "ipython",
    "version": 2
   },
   "file_extension": ".py",
   "mimetype": "text/x-python",
   "name": "python",
   "nbconvert_exporter": "python",
   "pygments_lexer": "ipython2",
   "version": "2.7.12"
  }
 },
 "nbformat": 4,
 "nbformat_minor": 4
}
